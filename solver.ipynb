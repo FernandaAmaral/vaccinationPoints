{
 "cells": [
  {
   "cell_type": "code",
   "execution_count": 95,
   "source": [
    "import pandas as pd\n",
    "from ortools.linear_solver import pywraplp"
   ],
   "outputs": [],
   "metadata": {}
  },
  {
   "cell_type": "code",
   "execution_count": 96,
   "source": [
    "solver = pywraplp.Solver.CreateSolver('GLOP')"
   ],
   "outputs": [],
   "metadata": {}
  },
  {
   "cell_type": "code",
   "execution_count": 97,
   "source": [
    "df = pd.read_csv('RA.csv')\n",
    "df.head()"
   ],
   "outputs": [
    {
     "output_type": "execute_result",
     "data": {
      "text/html": [
       "<div>\n",
       "<style scoped>\n",
       "    .dataframe tbody tr th:only-of-type {\n",
       "        vertical-align: middle;\n",
       "    }\n",
       "\n",
       "    .dataframe tbody tr th {\n",
       "        vertical-align: top;\n",
       "    }\n",
       "\n",
       "    .dataframe thead th {\n",
       "        text-align: right;\n",
       "    }\n",
       "</style>\n",
       "<table border=\"1\" class=\"dataframe\">\n",
       "  <thead>\n",
       "    <tr style=\"text-align: right;\">\n",
       "      <th></th>\n",
       "      <th>Região administrativa</th>\n",
       "      <th>Num de veiculos</th>\n",
       "      <th>% de veiculos</th>\n",
       "      <th>Aluguel medio</th>\n",
       "      <th>Dist centro</th>\n",
       "      <th>lat</th>\n",
       "      <th>lon</th>\n",
       "    </tr>\n",
       "  </thead>\n",
       "  <tbody>\n",
       "    <tr>\n",
       "      <th>0</th>\n",
       "      <td>Plano Piloto</td>\n",
       "      <td>74038</td>\n",
       "      <td>86.9</td>\n",
       "      <td>2268.0</td>\n",
       "      <td>0</td>\n",
       "      <td>-15.797422</td>\n",
       "      <td>-47.878090</td>\n",
       "    </tr>\n",
       "    <tr>\n",
       "      <th>1</th>\n",
       "      <td>Gama</td>\n",
       "      <td>25485</td>\n",
       "      <td>65.0</td>\n",
       "      <td>965.0</td>\n",
       "      <td>30</td>\n",
       "      <td>-16.018858</td>\n",
       "      <td>-48.067951</td>\n",
       "    </tr>\n",
       "    <tr>\n",
       "      <th>2</th>\n",
       "      <td>Taguatinga</td>\n",
       "      <td>45951</td>\n",
       "      <td>72.0</td>\n",
       "      <td>1037.0</td>\n",
       "      <td>19</td>\n",
       "      <td>-15.803228</td>\n",
       "      <td>-48.017552</td>\n",
       "    </tr>\n",
       "    <tr>\n",
       "      <th>3</th>\n",
       "      <td>Brazlândia</td>\n",
       "      <td>8798</td>\n",
       "      <td>56.1</td>\n",
       "      <td>850.0</td>\n",
       "      <td>59</td>\n",
       "      <td>-15.622604</td>\n",
       "      <td>-48.134750</td>\n",
       "    </tr>\n",
       "    <tr>\n",
       "      <th>4</th>\n",
       "      <td>Sobradinho</td>\n",
       "      <td>13364</td>\n",
       "      <td>72.9</td>\n",
       "      <td>1003.0</td>\n",
       "      <td>22</td>\n",
       "      <td>-15.633557</td>\n",
       "      <td>-47.829898</td>\n",
       "    </tr>\n",
       "  </tbody>\n",
       "</table>\n",
       "</div>"
      ],
      "text/plain": [
       "  Região administrativa  Num de veiculos  % de veiculos  Aluguel medio  \\\n",
       "0          Plano Piloto            74038           86.9         2268.0   \n",
       "1                  Gama            25485           65.0          965.0   \n",
       "2            Taguatinga            45951           72.0         1037.0   \n",
       "3            Brazlândia             8798           56.1          850.0   \n",
       "4            Sobradinho            13364           72.9         1003.0   \n",
       "\n",
       "   Dist centro        lat        lon  \n",
       "0            0 -15.797422 -47.878090  \n",
       "1           30 -16.018858 -48.067951  \n",
       "2           19 -15.803228 -48.017552  \n",
       "3           59 -15.622604 -48.134750  \n",
       "4           22 -15.633557 -47.829898  "
      ]
     },
     "metadata": {},
     "execution_count": 97
    }
   ],
   "metadata": {}
  },
  {
   "cell_type": "markdown",
   "source": [
    "## Variáveis do problema"
   ],
   "metadata": {}
  },
  {
   "cell_type": "code",
   "execution_count": 98,
   "source": [
    "N = len(df)                                 # Número de RAs\n",
    "V = df['Num de veiculos'].to_numpy()        # Número de veículos\n",
    "D = pd.read_csv('distances.csv', header=None).values     # Distância entre as RAs\n",
    "\n",
    "cities = df['Região administrativa'].to_numpy()"
   ],
   "outputs": [],
   "metadata": {}
  },
  {
   "cell_type": "code",
   "execution_count": 99,
   "source": [
    "cap_min = 10000         # Capacidade min de atendimento de cada drive thru\n",
    "cap_max = 18000         # Capacidade max de atendimento de cada drive thru\n",
    "doses = 200000          # Número de doses de vacina disponíveis\n",
    "qtde_pessoas = 2        # Quantidade média de pessoas vacinadas por carro\n",
    "dist_max = 15           # Distância máxima entre dois postos drive thru"
   ],
   "outputs": [],
   "metadata": {}
  },
  {
   "cell_type": "markdown",
   "source": [
    "## Variável alvo\n",
    "\n",
    "Quantidade de vacinas por Região Administrativa do DF\n",
    "\n",
    "- **Limite mínimo**: 0\n",
    "- **Limite máximo**: Mínimo entre a capacidade máxima de um posto drive thru e a quantidade de pessoas aptas a se vacinar naquela RA"
   ],
   "metadata": {}
  },
  {
   "cell_type": "code",
   "execution_count": 100,
   "source": [
    "X = []\n",
    "\n",
    "for i in range(N):\n",
    "    qt_vacinantes = V[i] * qtde_pessoas\n",
    "    qt_max = int(min(cap_max, qt_vacinantes))\n",
    "\n",
    "    if qt_vacinantes < cap_min:\n",
    "        X.append(solver.IntVar(0, 0, f'X{i}'))\n",
    "    else:\n",
    "        X.append(solver.IntVar(0, qt_max, f'X{i}'))"
   ],
   "outputs": [],
   "metadata": {}
  },
  {
   "cell_type": "markdown",
   "source": [
    "## Restrições\n",
    "\n",
    "1. O limite de doses distribuídas é determinado pela quantidade disponível no DF\n",
    "\n",
    "\n",
    "$$ \\sum_{i=0}^{N} X_{i} \\leq doses$$"
   ],
   "metadata": {}
  },
  {
   "cell_type": "code",
   "execution_count": 101,
   "source": [
    "ct = solver.Constraint(0, doses, 'numero max de doses')\n",
    "for i in range(N):\n",
    "    ct.SetCoefficient(X[i], 1)"
   ],
   "outputs": [],
   "metadata": {}
  },
  {
   "cell_type": "markdown",
   "source": [
    "2. Toda região administrativa deve estar até uma distância máxima (em Km) de um posto drive thru.\n",
    "\n",
    "Dada uma variável booleana $dist_{ij}$ que indica se uma RA *i* é vizinha da outra *j* ou não (com a distância entre as RAs estimada por meio da biblioteca geopy), temos que:\n",
    "\n",
    "\n",
    "\n",
    "$$\\sum_{N}^{i = 0} X_{i} dist \\geq min\\_doses, \\forall j\\epsilon N$$"
   ],
   "metadata": {}
  },
  {
   "cell_type": "code",
   "execution_count": 102,
   "source": [
    "for i in range(N):\n",
    "    ct = solver.Constraint(cap_min, doses, f'Cidade {cities[i]} - dist min')\n",
    "    for j in range(N):\n",
    "        dist = 0\n",
    "        if D[i][j] <= dist_max:\n",
    "            dist = 1\n",
    "        ct.SetCoefficient(X[i], dist)"
   ],
   "outputs": [],
   "metadata": {}
  },
  {
   "cell_type": "markdown",
   "source": [
    "## Função objetivo\n",
    "\n",
    "Maximizar a quantidade de vacinas distribuídas\n",
    "\n",
    "$$max(\\sum_{i=0}^{N}Xi)$$"
   ],
   "metadata": {}
  },
  {
   "cell_type": "code",
   "execution_count": 103,
   "source": [
    "objective = solver.Objective()\n",
    "\n",
    "for i in range(N):\n",
    "    objective.SetCoefficient(X[i], 1)\n",
    "objective.SetMaximization()"
   ],
   "outputs": [],
   "metadata": {}
  },
  {
   "cell_type": "markdown",
   "source": [
    "## Resultado"
   ],
   "metadata": {}
  },
  {
   "cell_type": "code",
   "execution_count": 105,
   "source": [
    "status = solver.Solve()"
   ],
   "outputs": [],
   "metadata": {}
  },
  {
   "cell_type": "code",
   "execution_count": 106,
   "source": [
    "if status == pywraplp.Solver.OPTIMAL:\n",
    "    print('Valor objetivo =', solver.Objective().Value())\n",
    "    for i in range(N):\n",
    "        n = X[i].solution_value()\n",
    "        if n:\n",
    "            print(f\"{cities[i]}: {n} vacinas\")\n",
    "else:\n",
    "    print('O problema não possui solução ótima')"
   ],
   "outputs": [
    {
     "output_type": "stream",
     "name": "stdout",
     "text": [
      "Valor objetivo = 200000.0\n",
      "Plano Piloto: 18000.0 vacinas\n",
      "Gama: 18000.0 vacinas\n",
      "Taguatinga: 18000.0 vacinas\n",
      "Brazlândia: 17596.0 vacinas\n",
      "Sobradinho: 18000.0 vacinas\n",
      "Planaltina: 18000.0 vacinas\n",
      "Paranoá: 16546.0 vacinas\n",
      "Núcleo Bandeirante: 10258.0 vacinas\n",
      "Ceilândia: 18000.0 vacinas\n",
      "Guará: 18000.0 vacinas\n",
      "Cruzeiro: 18000.0 vacinas\n",
      "Samambaia: 11600.0 vacinas\n"
     ]
    }
   ],
   "metadata": {}
  },
  {
   "cell_type": "code",
   "execution_count": null,
   "source": [],
   "outputs": [],
   "metadata": {}
  }
 ],
 "metadata": {
  "orig_nbformat": 4,
  "language_info": {
   "name": "python",
   "version": "3.8.5",
   "mimetype": "text/x-python",
   "codemirror_mode": {
    "name": "ipython",
    "version": 3
   },
   "pygments_lexer": "ipython3",
   "nbconvert_exporter": "python",
   "file_extension": ".py"
  },
  "kernelspec": {
   "name": "python3",
   "display_name": "Python 3.8.5 64-bit ('venv': venv)"
  },
  "interpreter": {
   "hash": "c7cccabeb809e914785bcf81f2cf0186527cf4d16c37e06db6d87802adf20cef"
  }
 },
 "nbformat": 4,
 "nbformat_minor": 2
}